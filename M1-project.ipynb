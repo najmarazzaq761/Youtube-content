{
  "cells": [
    {
      "cell_type": "markdown",
      "metadata": {
        "id": "hWJ3cj_5_jiq"
      },
      "source": [
        "# COMSATS Course Management System"
      ]
    },
    {
      "cell_type": "markdown",
      "metadata": {
        "id": "-XU3vpyU_jis"
      },
      "source": [
        "<img src=\"https://sahiwal.comsats.edu.pk/slides/CUI,%20Sahiwal%20Campus.jpg\" alt=\"University Logo\" style=\"max-width: 1200px; height: 100;\"/>"
      ]
    },
    {
      "cell_type": "markdown",
      "metadata": {
        "id": "bOFjUEDO_jis"
      },
      "source": [
        "## Project Description\n",
        "This project is a Python-based Course Management System that allows for the management and display of course details, student enrollment, and syllabus information. It is designed to showcase the use of Object-Oriented Programming (OOP) principles such as inheritance, encapsulation, and polymorphism. The system models different types of courses, each with specific attributes and methods.\n",
        "\n",
        "## Features\n",
        "- **Course Details**: Displays course information like course name, credits, instructor, and syllabus.\n",
        "- **Student Enrollment**: Allows students to enroll in courses.\n",
        "- **Course Types**: Handles different types of courses including Programming, Mathematics, and Hardware, each with unique attributes.\n",
        "- **Polymorphism**: Courses share common methods like `get_schedule`, but each course type customizes its implementation.\n",
        "\n",
        "## Concepts Implemented\n",
        "- **Encapsulation**: Private attributes (`__courseName`, `__credits`, `__instructorName`) are accessed via public getter methods to control data access.\n",
        "- **Inheritance**: Child classes (`programmingCourse`, `mathematicsCourse`, `hardwareCourse`) inherit from a parent `course` class to reuse common functionality.\n",
        "- **Polymorphism**: Methods like `get_schedule` and `get_syllabus` are shared among the child classes, but each class implements its own version.\n",
        "- **Abstraction**: Abstract method `get_syllabus` in the parent class forces child classes to provide a specific implementation.\n"
      ]
    },
    {
      "cell_type": "markdown",
      "metadata": {
        "id": "6eN9VGId_jit"
      },
      "source": [
        "# Implementation"
      ]
    },
    {
      "cell_type": "code",
      "execution_count": null,
      "metadata": {
        "id": "gDzjJGEZ_jit",
        "outputId": "3dc24315-6fa5-4d98-ed1f-d0b4828806b9",
        "colab": {
          "base_uri": "https://localhost:8080/"
        }
      },
      "outputs": [
        {
          "output_type": "stream",
          "name": "stdout",
          "text": [
            "Course 1 Information\n",
            "Course Name: Object Oriented Programming \n",
            "Credits: 3\n",
            "Instructor: Dr Ameeer\n",
            "Scheule:  Object Oriented Programming  includes 2 lectures and 1 lab per week\n",
            "Practical: Focuses on hands on Python projects\n",
            "Syllabus: Syllabus for programming \n",
            "Najma has been enrolled in Object Oriented Programming \n",
            "_____________________________________________________________________________\n",
            "Course 2 Information\n",
            "Course Name: Statistics and Probability\n",
            "Credits: 2\n",
            "Instructor: Dr Amin\n",
            "Scheule:  Statistics and Probability includes 2 lectures  per week\n",
            "Practical: Formula sheets for  Stats \n",
            "Syllabus: Syllabus for Stats\n",
            "Uzma has been enrolled in Statistics and Probability\n",
            "_____________________________________________________________________________\n",
            "Course 3 Information\n",
            "Course Name: Assembly Language\n",
            "Credits: 3\n",
            "Instructor: Dr Abuzar\n",
            "Scheule:  Assembly Language includes 2 lectures  per week\n",
            "Practical: Focus on hands on Assembly Language programming \n",
            "Syllabus: Syllabus for hardware\n",
            "Asad has been enrolled in Assembly Language\n",
            "_____________________________________________________________________________\n"
          ]
        }
      ],
      "source": [
        "class course:                                      # parent class\n",
        "    def __init__(self,courseName,credits,instructorName):\n",
        "# private attributes: implementing encapsulation\n",
        "        self.__courseName=courseName\n",
        "        self.__credits=credits\n",
        "        self.__instructorName=instructorName\n",
        "# methods to access private attributes\n",
        "    def get_course_name(self):\n",
        "        return self.__courseName\n",
        "    def get_credits(self):\n",
        "        return self.__credits\n",
        "    def get_instructor_name(self):\n",
        "        return self.__instructorName\n",
        "\n",
        "\n",
        "    def enroll_student(self,student_name):\n",
        "        return f\"{student_name} has been enrolled in {self.get_course_name()}\"\n",
        "\n",
        "\n",
        "# child classes : implememting inheritance\n",
        "class programmingCourse(course):\n",
        "    def __init__(self,courseName,credits,instructorName,programmming_lang):\n",
        "        super().__init__(courseName,credits,instructorName)\n",
        "        self.programming_lang=programmming_lang\n",
        "\n",
        "    def get_schedule(self):                              # common methods between child classes : implementing polymorphism\n",
        "        return f\"Scheule:  {self.get_course_name()} includes 2 lectures and 1 lab per week\"\n",
        "    def get_practical_exercises(self):                   # additional method\n",
        "        return f\"Practical: Focuses on hands on {self.programming_lang} projects\"\n",
        "    def get_syllabus(self):\n",
        "        return f\"Syllabus: Syllabus for programming \"\n",
        "\n",
        "\n",
        "class mathematicsCourse(course):\n",
        "    def __init__(self,courseName,credits,instructorName,mathField):\n",
        "        super().__init__(courseName,credits,instructorName)\n",
        "        self.mathField=mathField\n",
        "\n",
        "    def get_schedule(self):                              # common methods between child classes : implementing polymorphism\n",
        "         return f\"Scheule:  {self.get_course_name()} includes 2 lectures  per week\"\n",
        "    def get_formula_sheet(self):                         # addtional attribute\n",
        "        return f\"Practical: Formula sheets for  {self.mathField} \"\n",
        "    def get_syllabus(self):\n",
        "        return f\"Syllabus: Syllabus for {self.mathField}\"\n",
        "\n",
        "\n",
        "class hardwareCourse(course):\n",
        "    def __init__(self,courseName,credits,instructorName,coursefield):\n",
        "        super().__init__(courseName,credits,instructorName)\n",
        "        self.coursefield=coursefield\n",
        "\n",
        "    def get_schedule(self):                             # common methods between child classes : implementing polymorphism\n",
        "         return f\"Scheule:  {self.get_course_name()} includes 2 lectures  per week\"\n",
        "    def get_practical_exercises(self):\n",
        "        return f\"Practical: Focus on hands on {self.get_course_name()} programming \"\n",
        "    def get_syllabus(self):\n",
        "        return f\"Syllabus: Syllabus for {self.coursefield}\"\n",
        "\n",
        "def main():\n",
        "    # creating objects of child classes\n",
        "    course1=programmingCourse(\"Object Oriented Programming \",\"3\",\"Dr Ameeer\",\"Python\")\n",
        "    course2=mathematicsCourse(\"Statistics and Probability\",\"2\",\"Dr Amin\",\"Stats\")\n",
        "    course3=hardwareCourse(\"Assembly Language\",\"3\",\"Dr Abuzar\",\"hardware\")\n",
        "\n",
        "    print(\"Course 1 Information\")\n",
        "    print(f\"Course Name: {course1.get_course_name()}\")\n",
        "    print(f\"Credits: {course1.get_credits()}\")\n",
        "    print(f\"Instructor: {course1.get_instructor_name()}\")\n",
        "    print(course1.get_schedule())\n",
        "    print(course1.get_practical_exercises())\n",
        "    print(course1.get_syllabus())\n",
        "    print(course1.enroll_student(\"Najma\"))\n",
        "    print(\"_____________________________________________________________________________\")\n",
        "\n",
        "\n",
        "    print(\"Course 2 Information\")\n",
        "    print(f\"Course Name: {course2.get_course_name()}\")\n",
        "    print(f\"Credits: {course2.get_credits()}\")\n",
        "    print(f\"Instructor: {course2.get_instructor_name()}\")\n",
        "    print(course2.get_schedule())\n",
        "    print(course2.get_formula_sheet())\n",
        "    print(course2.get_syllabus())\n",
        "    print(course2.enroll_student(\"Uzma\"))\n",
        "    print(\"_____________________________________________________________________________\")\n",
        "\n",
        "\n",
        "    print(\"Course 3 Information\")\n",
        "    print(f\"Course Name: {course3.get_course_name()}\")\n",
        "    print(f\"Credits: {course3.get_credits()}\")\n",
        "    print(f\"Instructor: {course3.get_instructor_name()}\")\n",
        "    print(course3.get_schedule())\n",
        "    print(course3.get_practical_exercises())\n",
        "    print(course3.get_syllabus())\n",
        "    print(course3.enroll_student(\"Asad\"))\n",
        "    print(\"_____________________________________________________________________________\")\n",
        "if __name__ == \"__main__\":\n",
        "    main()\n"
      ]
    },
    {
      "cell_type": "code",
      "source": [
        "vvvvvvvvvvvvvvvvvvmmmmmmmmmmmmmmmmmmmmmmmmmmmmmmmmmmmmmmmmmmmmmmmmmmmmmmmmmmmmmmmmmmmmmmmmmmmmmmmmmmmmmmmmmmmmmmmmmmmmmmmmmmmmuii,iiiiiiiiiiiiiiiiiiiiiiiiiiiiiiiiiiiiiiiiiiiiiiiiiiiiiiiiiiiiiiiiiiiiiiiiiiiiiiiiiiiiiiiiiiiiiiiiuo"
      ],
      "metadata": {
        "id": "v1gzQCH1YVlI"
      },
      "execution_count": null,
      "outputs": []
    },
    {
      "cell_type": "markdown",
      "metadata": {
        "id": "IhSqFXAL_jiv"
      },
      "source": [
        "## Conclusion\n",
        "\n",
        "The Course Management System project demonstrates effective use of object-oriented programming principles to manage and organize different types of university courses. By implementing encapsulation, inheritance, and polymorphism, the project creates a flexible and scalable system that can handle various course-related functionalities like student enrollment, scheduling, and syllabus management. This structure allows for future expansion and customization, making it a practical solution for managing academic courses in a streamlined and organized manner."
      ]
    }
  ],
  "metadata": {
    "kernelspec": {
      "display_name": "Python 3",
      "name": "python3"
    },
    "language_info": {
      "codemirror_mode": {
        "name": "ipython",
        "version": 3
      },
      "file_extension": ".py",
      "mimetype": "text/x-python",
      "name": "python",
      "nbconvert_exporter": "python",
      "pygments_lexer": "ipython3",
      "version": "3.12.5"
    },
    "colab": {
      "provenance": []
    }
  },
  "nbformat": 4,
  "nbformat_minor": 0
}