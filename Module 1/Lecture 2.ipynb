{
  "cells": [
    {
      "cell_type": "markdown",
      "metadata": {
        "id": "Xjlqk-LZxtCT"
      },
      "source": [
        "## Table of contents\n",
        "\n",
        "1.   Data structures\n",
        "2.   conditional statements\n",
        "3.   Loops\n",
        "4.   Functions\n"
      ]
    },
    {
      "cell_type": "markdown",
      "metadata": {
        "id": "oLLZOrdZWul5"
      },
      "source": [
        "## 1. Data Structures\n",
        "Data structures allow us to store and organize data efficiently. Python has several built-in data structures, including:\n",
        "\n"
      ]
    },
    {
      "cell_type": "markdown",
      "metadata": {
        "id": "9LaCs5CVW0DH"
      },
      "source": [
        "### a. list\n",
        "A list is a collection of items that are ordered and mutable(changeable). Lists allow duplicate members.\n",
        "\n"
      ]
    },
    {
      "cell_type": "code",
      "execution_count": null,
      "metadata": {
        "colab": {
          "base_uri": "https://localhost:8080/"
        },
        "id": "bVHtJXPc0go2",
        "outputId": "cc647a79-3dc4-49bf-f59b-ac9237c44b33"
      },
      "outputs": [
        {
          "name": "stdout",
          "output_type": "stream",
          "text": [
            "['apple', 'banana', 'cherry', 'apple']\n",
            "value at index 3 is  A\n"
          ]
        }
      ],
      "source": [
        "list_of_fruits = [\"apple\", \"banana\", \"cherry\",\"apple\"]\n",
        "print(list_of_fruits)\n",
        "list_of_different_data = [\"Najma\",21,5.3,'A']\n",
        "print(\"value at index 3 is \",list_of_different_data[3])"
      ]
    },
    {
      "cell_type": "code",
      "execution_count": null,
      "metadata": {
        "colab": {
          "base_uri": "https://localhost:8080/"
        },
        "id": "9Hemx5KgdOIe",
        "outputId": "edf2272f-a1f8-40dd-e13b-361f79122fc8"
      },
      "outputs": [
        {
          "name": "stdout",
          "output_type": "stream",
          "text": [
            "['apple', 'banana', 'orange', 'apple']\n",
            "['apple', 'banana', 'orange', 'apple', 'mango']\n"
          ]
        }
      ],
      "source": [
        "list_of_fruits[2]=\"orange\"\n",
        "print(list_of_fruits)\n",
        "list_of_fruits.append(\"mango\")\n",
        "print(list_of_fruits)"
      ]
    },
    {
      "cell_type": "markdown",
      "metadata": {
        "id": "6hhjSuK-W2nN"
      },
      "source": [
        "### b. tuples\n",
        "Tuples are similar to lists, but they are immutable (cannot be changed).\n",
        "\n"
      ]
    },
    {
      "cell_type": "code",
      "execution_count": null,
      "metadata": {
        "colab": {
          "base_uri": "https://localhost:8080/"
        },
        "id": "CNLYi9n-0gmw",
        "outputId": "713e1bc7-6c16-4561-9d05-8bff4e4e05fa"
      },
      "outputs": [
        {
          "name": "stdout",
          "output_type": "stream",
          "text": [
            "('red', 'green', 'blue', 'red')\n",
            "Element at index 1 is  21\n"
          ]
        }
      ],
      "source": [
        "colors = (\"red\", \"green\", \"blue\",\"red\")\n",
        "print(colors)\n",
        "tuple_of_different_data = (\"Najma\",21,5.3,'A')\n",
        "print(\"Element at index 1 is \",tuple_of_different_data[1])"
      ]
    },
    {
      "cell_type": "code",
      "execution_count": null,
      "metadata": {
        "colab": {
          "base_uri": "https://localhost:8080/",
          "height": 158
        },
        "id": "hZWypxpkf7Kq",
        "outputId": "6a9d1694-c5f0-4c65-a4e3-591f0e982412"
      },
      "outputs": [
        {
          "ename": "TypeError",
          "evalue": "'tuple' object does not support item assignment",
          "output_type": "error",
          "traceback": [
            "\u001b[0;31m---------------------------------------------------------------------------\u001b[0m",
            "\u001b[0;31mTypeError\u001b[0m                                 Traceback (most recent call last)",
            "\u001b[0;32m<ipython-input-5-0b1b00d0853b>\u001b[0m in \u001b[0;36m<cell line: 1>\u001b[0;34m()\u001b[0m\n\u001b[0;32m----> 1\u001b[0;31m \u001b[0mcolors\u001b[0m\u001b[0;34m[\u001b[0m\u001b[0;36m2\u001b[0m\u001b[0;34m]\u001b[0m\u001b[0;34m=\u001b[0m\u001b[0;34m\"orange\"\u001b[0m\u001b[0;34m\u001b[0m\u001b[0;34m\u001b[0m\u001b[0m\n\u001b[0m\u001b[1;32m      2\u001b[0m \u001b[0mprint\u001b[0m\u001b[0;34m(\u001b[0m\u001b[0mcolors\u001b[0m\u001b[0;34m)\u001b[0m\u001b[0;34m\u001b[0m\u001b[0;34m\u001b[0m\u001b[0m\n",
            "\u001b[0;31mTypeError\u001b[0m: 'tuple' object does not support item assignment"
          ]
        }
      ],
      "source": [
        "colors[2]=\"orange\"\n",
        "print(colors)"
      ]
    },
    {
      "cell_type": "markdown",
      "metadata": {
        "id": "LnvbO3BTeh9Q"
      },
      "source": [
        "we can verify value at any index"
      ]
    },
    {
      "cell_type": "code",
      "execution_count": null,
      "metadata": {
        "colab": {
          "base_uri": "https://localhost:8080/"
        },
        "id": "V3RB-cpoddda",
        "outputId": "7178d669-a73a-4fed-af0d-2be8abd61224"
      },
      "outputs": [
        {
          "data": {
            "text/plain": [
              "False"
            ]
          },
          "execution_count": 6,
          "metadata": {},
          "output_type": "execute_result"
        }
      ],
      "source": [
        "tuple_of_different_data[2]==6.5"
      ]
    },
    {
      "cell_type": "markdown",
      "metadata": {
        "id": "jb8GKYG_W73r"
      },
      "source": [
        "### c. dictionary\n",
        "A dictionary stores data as key-value pairs. It is unordered and mutable.\n",
        "\n"
      ]
    },
    {
      "cell_type": "code",
      "execution_count": null,
      "metadata": {
        "colab": {
          "base_uri": "https://localhost:8080/"
        },
        "id": "Ut1uzSfe0gbS",
        "outputId": "ba02b06f-a63d-46c8-ec6c-3f2d9826e42d"
      },
      "outputs": [
        {
          "name": "stdout",
          "output_type": "stream",
          "text": [
            "{'name': 'Najma', 'age': 21, 'grade': 'A'}\n",
            "My name is  Najma\n",
            "{'name': 'uzma', 'age': 21, 'grade': 'A'}\n"
          ]
        }
      ],
      "source": [
        "my_info = {\"name\": \"Najma\", \"age\": 21, \"grade\": \"A\"}\n",
        "print(my_info)\n",
        "print(\"My name is \",my_info[\"name\"])\n",
        "my_info[\"name\"]=\"uzma\"\n",
        "print(my_info)"
      ]
    },
    {
      "cell_type": "markdown",
      "metadata": {
        "id": "c2XtS6VqXHeY"
      },
      "source": [
        "### d. sets\n",
        "A set is an unordered collection of unique items.\n",
        "\n"
      ]
    },
    {
      "cell_type": "code",
      "execution_count": null,
      "metadata": {
        "colab": {
          "base_uri": "https://localhost:8080/"
        },
        "id": "EB2CVAu0L0Im",
        "outputId": "c5eb30a8-23fe-4a71-8f8c-aec246cf008e"
      },
      "outputs": [
        {
          "name": "stdout",
          "output_type": "stream",
          "text": [
            "{1, 2, 3, 4}\n"
          ]
        }
      ],
      "source": [
        "numbers = {1, 2, 3, 3, 4}\n",
        "print(numbers)             # Output: {1, 2, 3, 4} (duplicates removed)"
      ]
    },
    {
      "cell_type": "markdown",
      "metadata": {
        "id": "RwuZyoYk4i37"
      },
      "source": [
        "## Comparison of data structures"
      ]
    },
    {
      "cell_type": "markdown",
      "metadata": {
        "id": "R6Req1F94oeP"
      },
      "source": [
        "![image.png](data:image/png;base64,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)"
      ]
    },
    {
      "cell_type": "markdown",
      "metadata": {
        "id": "xgCaV4n24w6U"
      },
      "source": [
        "## Real Life Examples of Data Structures\n"
      ]
    },
    {
      "cell_type": "code",
      "execution_count": null,
      "metadata": {
        "id": "KjuACQeU5j_9"
      },
      "outputs": [],
      "source": [
        "shopping_list = [\"milk\", \"bread\", \"eggs\", \"butter\"]          # A shopping list where you may need to add, remove, or modify items.\n",
        "gps_coordinates = (40.7128, -74.0060)                        # GPS coordinates (latitude, longitude). Immutable, Ordered, Indexable\n",
        "student_data = {\"id\": 101, \"name\": \"Alice\", \"grade\": \"A\"}    # Mutable, Unordered (ordered as of Python 3.7+), Key-value pair\n",
        "unique_usernames = {\"user1\", \"user2\", \"user3\"}               # Mutable, Unordered, Unique elements\n"
      ]
    },
    {
      "cell_type": "markdown",
      "metadata": {
        "id": "LeZX_tArXX8-"
      },
      "source": [
        "## 2 .Conditonal statements"
      ]
    },
    {
      "cell_type": "code",
      "execution_count": null,
      "metadata": {
        "colab": {
          "base_uri": "https://localhost:8080/"
        },
        "id": "AK8gz84ueCgY",
        "outputId": "a62818b8-dec7-41fd-93a8-9c6f355be806"
      },
      "outputs": [
        {
          "name": "stdout",
          "output_type": "stream",
          "text": [
            "Enter your age: 15\n"
          ]
        }
      ],
      "source": [
        "age = int(input(\"Enter your age: \"))\n",
        "if age >= 18:                     #if: statement\n",
        "    print(\"You are able to vote.\")\n"
      ]
    },
    {
      "cell_type": "code",
      "execution_count": null,
      "metadata": {
        "colab": {
          "base_uri": "https://localhost:8080/"
        },
        "id": "3XhEugTmi9RK",
        "outputId": "d6e0e7a4-c888-4fe3-e2d8-56a3c06d9b62"
      },
      "outputs": [
        {
          "name": "stdout",
          "output_type": "stream",
          "text": [
            "You cant vote\n"
          ]
        }
      ],
      "source": [
        "age = 16\n",
        "if age >= 18:\n",
        "    print(\"You have to right .\")\n",
        "else:\n",
        "    print(\"You cant vote\")\n"
      ]
    },
    {
      "cell_type": "code",
      "execution_count": null,
      "metadata": {
        "colab": {
          "base_uri": "https://localhost:8080/"
        },
        "id": "GWOLzs5Ri9Nq",
        "outputId": "2c0535f4-a1a8-45bb-d0ca-e8cbeb972ea5"
      },
      "outputs": [
        {
          "name": "stdout",
          "output_type": "stream",
          "text": [
            "Enter your marks: 30\n",
            "Grade: C\n"
          ]
        }
      ],
      "source": [
        "marks = int(input(\"Enter your marks: \"))\n",
        "if marks >= 90:\n",
        "    print(\"Grade: A\")\n",
        "elif marks >= 80:\n",
        "    print(\"Grade: B\")\n",
        "else:\n",
        "    print(\"Grade: C\")"
      ]
    },
    {
      "cell_type": "markdown",
      "metadata": {
        "id": "bTESb5suiZQr"
      },
      "source": [
        "3.   Loops\n",
        "4.   Functions"
      ]
    },
    {
      "cell_type": "markdown",
      "metadata": {
        "id": "AUTiqee2XJ_O"
      },
      "source": [
        "## 3 . Loops"
      ]
    },
    {
      "cell_type": "markdown",
      "metadata": {
        "id": "y0Ue1ow3XMkA"
      },
      "source": [
        "### 1. for loop\n"
      ]
    },
    {
      "cell_type": "code",
      "execution_count": null,
      "metadata": {
        "colab": {
          "base_uri": "https://localhost:8080/"
        },
        "id": "Y2S0lTbiL0Cv",
        "outputId": "dd405e4b-f146-4c40-b8f8-9215854596bb"
      },
      "outputs": [
        {
          "name": "stdout",
          "output_type": "stream",
          "text": [
            "1\n",
            "2\n",
            "3\n",
            "4\n"
          ]
        }
      ],
      "source": [
        "for i in range(1,5):\n",
        "    print(i)\n",
        "    # print(\"Hello\")"
      ]
    },
    {
      "cell_type": "code",
      "execution_count": null,
      "metadata": {
        "colab": {
          "base_uri": "https://localhost:8080/"
        },
        "id": "0qxhBGuKb5vw",
        "outputId": "42feac9d-fe6c-43fa-b995-461e8327156a"
      },
      "outputs": [
        {
          "name": "stdout",
          "output_type": "stream",
          "text": [
            "okra\n",
            "pumpkin\n",
            "brinjal\n"
          ]
        }
      ],
      "source": [
        "vegetables = [\"okra\", \"pumpkin\", \"brinjal\"]\n",
        "for i in vegetables:\n",
        "    print(i)"
      ]
    },
    {
      "cell_type": "markdown",
      "metadata": {
        "id": "1Mhg-TaKXQMP"
      },
      "source": [
        "### 2. while loop"
      ]
    },
    {
      "cell_type": "code",
      "execution_count": null,
      "metadata": {
        "colab": {
          "base_uri": "https://localhost:8080/"
        },
        "id": "xEhJHQ-eeCpF",
        "outputId": "a5a2aca9-5c36-4649-f185-f1b727674abb"
      },
      "outputs": [
        {
          "name": "stdout",
          "output_type": "stream",
          "text": [
            "2 * 1 = 1\n",
            "2 * 2 = 4\n",
            "2 * 3 = 9\n",
            "2 * 4 = 16\n",
            "2 * 5 = 25\n"
          ]
        }
      ],
      "source": [
        "i =1\n",
        "while  i <= 5:\n",
        "    print(2, '*' ,i, '=', i*i)\n",
        "    i+=1     # i=i+1"
      ]
    },
    {
      "cell_type": "markdown",
      "metadata": {
        "id": "_EyrYFDopl_v"
      },
      "source": [
        " for Loop\n",
        "Usage: Typically used when you know the number of iterations or you are iterating over a sequence (such as a list, string, or range).</br>\n",
        "Control: The loop iterates over a sequence of items and automatically stops when all items are processed.\n"
      ]
    },
    {
      "cell_type": "markdown",
      "metadata": {
        "id": "5uJLDvNopff0"
      },
      "source": [
        "while Loop\n",
        "Usage: Used when you want to loop as long as a certain condition is True.</br>\n",
        "It’s useful when the number of iterations is not known in advance, and it continues as long as the condition holds.</br>\n",
        "Control: The loop runs indefinitely until the condition becomes False.\n"
      ]
    },
    {
      "cell_type": "markdown",
      "metadata": {
        "id": "qgmJaZX4XT6J"
      },
      "source": [
        "## 4. Functons"
      ]
    },
    {
      "cell_type": "code",
      "execution_count": null,
      "metadata": {
        "colab": {
          "base_uri": "https://localhost:8080/"
        },
        "id": "vdYy-9cHeClo",
        "outputId": "5ec7fb94-953e-4f3f-8e3e-ec1cd6d33776"
      },
      "outputs": [
        {
          "name": "stdout",
          "output_type": "stream",
          "text": [
            "Hello, World!\n"
          ]
        }
      ],
      "source": [
        "def greet():             # defining function without parameters\n",
        "    print(\"Hello, World!\")\n",
        "greet()                  # calling function\n"
      ]
    },
    {
      "cell_type": "code",
      "execution_count": null,
      "metadata": {
        "colab": {
          "base_uri": "https://localhost:8080/"
        },
        "id": "6-c5n1B0eCic",
        "outputId": "fc620c4d-81b8-4074-9a64-12542d51de7a"
      },
      "outputs": [
        {
          "name": "stdout",
          "output_type": "stream",
          "text": [
            "sum is  12\n"
          ]
        }
      ],
      "source": [
        "def add(a, b, c):               # function definition with parameters\n",
        "    return a + b +c\n",
        "\n",
        "result = add(5,3,4 )           # calling function and passing arguments\n",
        "print(\"sum is \",result)      # Output: 8"
      ]
    },
    {
      "cell_type": "code",
      "execution_count": null,
      "metadata": {
        "id": "FUjnZWs8dcid"
      },
      "outputs": [],
      "source": []
    }
  ],
  "metadata": {
    "colab": {
      "provenance": []
    },
    "kernelspec": {
      "display_name": "Python 3",
      "name": "python3"
    },
    "language_info": {
      "codemirror_mode": {
        "name": "ipython",
        "version": 3
      },
      "file_extension": ".py",
      "mimetype": "text/x-python",
      "name": "python",
      "nbconvert_exporter": "python",
      "pygments_lexer": "ipython3",
      "version": "3.12.5"
    }
  },
  "nbformat": 4,
  "nbformat_minor": 0
}
