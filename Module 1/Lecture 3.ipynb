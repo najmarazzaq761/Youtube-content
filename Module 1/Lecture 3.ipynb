{
  "nbformat": 4,
  "nbformat_minor": 0,
  "metadata": {
    "colab": {
      "provenance": []
    },
    "kernelspec": {
      "name": "python3",
      "display_name": "Python 3"
    },
    "language_info": {
      "name": "python"
    }
  },
  "cells": [
    {
      "cell_type": "markdown",
      "source": [
        "## Class"
      ],
      "metadata": {
        "id": "CBwsVlLIq-bF"
      }
    },
    {
      "cell_type": "code",
      "execution_count": null,
      "metadata": {
        "id": "kgvKLnkhqTlP"
      },
      "outputs": [],
      "source": [
        "class Student:\n",
        " name=\"najma\""
      ]
    },
    {
      "cell_type": "markdown",
      "source": [
        "## Object"
      ],
      "metadata": {
        "id": "w6qeAoS1tQ6-"
      }
    },
    {
      "cell_type": "code",
      "source": [
        "s1=Student()   # creating an object of student\n",
        "print(s1.name)"
      ],
      "metadata": {
        "id": "V8iBxaRLrLSb",
        "colab": {
          "base_uri": "https://localhost:8080/"
        },
        "outputId": "a4c5129e-972d-4a42-8e39-ea3a1ed6bff2"
      },
      "execution_count": null,
      "outputs": [
        {
          "output_type": "stream",
          "name": "stdout",
          "text": [
            "najma\n"
          ]
        }
      ]
    },
    {
      "cell_type": "markdown",
      "source": [
        "## Constructer / __ init __function"
      ],
      "metadata": {
        "id": "Og4cZccytTUW"
      }
    },
    {
      "cell_type": "code",
      "source": [
        "#  def __init__(self):\n",
        "\n",
        "\n",
        "class Student:\n",
        "    def __init__(self, fullname):\n",
        "        self.name = fullname  # Instance attribute\n",
        "\n",
        "s1 = Student(\"Najma\")\n",
        "print(s1.name)"
      ],
      "metadata": {
        "id": "L8NDIZDFrLO6",
        "colab": {
          "base_uri": "https://localhost:8080/"
        },
        "outputId": "43d0e4f5-3067-4225-c188-aae883fe98c7"
      },
      "execution_count": null,
      "outputs": [
        {
          "output_type": "stream",
          "name": "stdout",
          "text": [
            "Najma\n"
          ]
        }
      ]
    },
    {
      "cell_type": "markdown",
      "source": [
        "## Public & private attributes"
      ],
      "metadata": {
        "id": "Kq9h5nZXtnck"
      }
    },
    {
      "cell_type": "code",
      "source": [
        "class Student:\n",
        "    def __init__(self,fullname,marks):\n",
        "        self.name = fullname\n",
        "        self.__m= marks"
      ],
      "metadata": {
        "id": "Gu9clZnWrK6D"
      },
      "execution_count": null,
      "outputs": []
    },
    {
      "cell_type": "markdown",
      "source": [
        "## Method"
      ],
      "metadata": {
        "id": "9cYjgUAUts8X"
      }
    },
    {
      "cell_type": "code",
      "source": [
        "class MyClass:\n",
        "    def greet(self):\n",
        "        print(\"Hello everyone\")\n",
        "\n",
        "obj = MyClass()\n",
        "obj.greet()  # calling the method"
      ],
      "metadata": {
        "colab": {
          "base_uri": "https://localhost:8080/"
        },
        "id": "nPdawZc6rK3Q",
        "outputId": "fd56172d-eeb4-445f-dd78-7068712e86fe"
      },
      "execution_count": null,
      "outputs": [
        {
          "output_type": "stream",
          "name": "stdout",
          "text": [
            "Hello everyone\n"
          ]
        }
      ]
    },
    {
      "cell_type": "markdown",
      "source": [
        "## Encapsulation"
      ],
      "metadata": {
        "id": "FLfk93sht0hx"
      }
    },
    {
      "cell_type": "code",
      "source": [
        "class MyClass:\n",
        "    def __init__(self,name):\n",
        "        self.__myname = name\n",
        "\n",
        "    def get_private(self):\n",
        "        return self.__myname  # Accessed through a method\n",
        "\n",
        "obj = MyClass(\"najma\")\n",
        "print(obj.get_private())\n",
        "# print(obj.__myname)\n",
        "\n"
      ],
      "metadata": {
        "colab": {
          "base_uri": "https://localhost:8080/"
        },
        "id": "ggS-EccfsMuh",
        "outputId": "78aa8598-eb01-4274-d984-e69e9a3d44ff"
      },
      "execution_count": null,
      "outputs": [
        {
          "output_type": "stream",
          "name": "stdout",
          "text": [
            "najma\n"
          ]
        }
      ]
    },
    {
      "cell_type": "markdown",
      "source": [
        "## Inheritance"
      ],
      "metadata": {
        "id": "sgwiTvZ4t4B9"
      }
    },
    {
      "cell_type": "code",
      "source": [
        "class person:             # parent class\n",
        "    # parent constructor to initialize person attributes\n",
        "    def __init__(self, name, age):\n",
        "        self.name = name\n",
        "        self.age = age\n",
        "\n",
        "    def display_details(self):\n",
        "        # method to display data of person\n",
        "        print(f\"Person name is: {self.name}, Person age is: {self.age}\")\n",
        "\n",
        "class student(person):               # child class\n",
        "    def __init__(self, name, age, sid):\n",
        "        super().__init__(name, age)  # initialize name and age from person class\n",
        "        self.sid = sid  # initialize student id\n",
        "\n",
        "    def details(self):\n",
        "        super().display_details()  # Call the parent class display_details to show name and age\n",
        "        print(f\"Student ID is: {self.sid}\")\n",
        "\n",
        "obj = student(\"Najma\", 21, 171)  # Create a student object and display details\n",
        "obj.details()"
      ],
      "metadata": {
        "colab": {
          "base_uri": "https://localhost:8080/"
        },
        "id": "_WpxZ4CzsMq_",
        "outputId": "f68aa80d-08d9-43ce-84eb-95c761b7320e"
      },
      "execution_count": null,
      "outputs": [
        {
          "output_type": "stream",
          "name": "stdout",
          "text": [
            "Person name is: Najma, Person age is: 21\n",
            "Student ID is: 171\n"
          ]
        }
      ]
    },
    {
      "cell_type": "markdown",
      "source": [
        "## Polymorphism"
      ],
      "metadata": {
        "id": "q_tBWSrLt7sl"
      }
    },
    {
      "cell_type": "code",
      "source": [
        "class Dog:\n",
        "    # Define a Dog class\n",
        "    def speak(self):\n",
        "        return \"Woof!\"\n",
        "\n",
        "class Cat:\n",
        "    # Define a Cat class\n",
        "    def speak(self):\n",
        "        return \"Meow!\"\n",
        "\n",
        "my_dog = Dog()  # making object of both classes\n",
        "my_cat = Cat()\n",
        "\n",
        "def animal_sound(animal):  # Function to demonstrate polymorphism\n",
        "    print(animal.speak())\n",
        "\n",
        "animal_sound(my_dog)  # Calling the function with different animals\n",
        "animal_sound(my_cat)"
      ],
      "metadata": {
        "colab": {
          "base_uri": "https://localhost:8080/"
        },
        "id": "DkMwpHtNsMoo",
        "outputId": "d31219b0-6a0c-4e93-e520-34a4fd4bd2ba"
      },
      "execution_count": null,
      "outputs": [
        {
          "output_type": "stream",
          "name": "stdout",
          "text": [
            "Woof!\n",
            "Meow!\n"
          ]
        }
      ]
    },
    {
      "cell_type": "markdown",
      "source": [
        "## Abstraction"
      ],
      "metadata": {
        "id": "kU2ep9HEuG8H"
      }
    },
    {
      "cell_type": "code",
      "source": [
        "from abc import ABC, abstractmethod  # Abstract class\n",
        "\n",
        "class Student(ABC):\n",
        "    def __init__(self, name, student_id):\n",
        "        self.name = name\n",
        "        self.student_id = student_id\n",
        "\n",
        "    @abstractmethod\n",
        "    def display_info(self):\n",
        "        pass\n",
        "\n",
        "class RegularStudent(Student):  # Concrete class for students\n",
        "    def display_info(self):\n",
        "        print(f\"Student Name: {self.name}, Student ID: {self.student_id}\")\n",
        "\n",
        "# Example usage\n",
        "# Create a RegularStudent instance\n",
        "student = RegularStudent(\"Najma Razzaq\", \"171\")\n",
        "\n",
        "student.display_info()  # Display student information"
      ],
      "metadata": {
        "colab": {
          "base_uri": "https://localhost:8080/"
        },
        "id": "tzjvfJfFtKLt",
        "outputId": "1d061232-a03d-4455-fe8d-2934c8ec866d"
      },
      "execution_count": null,
      "outputs": [
        {
          "output_type": "stream",
          "name": "stdout",
          "text": [
            "Student Name: Najma Razzaq, Student ID: 171\n"
          ]
        }
      ]
    },
    {
      "cell_type": "markdown",
      "source": [
        "Purpose of Abstraction:\n",
        "Abstraction allows you to define common methods and properties that all subclasses should have, without specifying how they should be implemented.\n",
        "This helps in creating a common interface for different types of objects while hiding the implementation details.\n",
        "This structure is useful when you have a group of related classes that should all share a common interface but might have different implementations."
      ],
      "metadata": {
        "id": "DnhM6iaf-qop"
      }
    },
    {
      "cell_type": "code",
      "source": [],
      "metadata": {
        "id": "gs9ztUR2tKEe"
      },
      "execution_count": null,
      "outputs": []
    }
  ]
}